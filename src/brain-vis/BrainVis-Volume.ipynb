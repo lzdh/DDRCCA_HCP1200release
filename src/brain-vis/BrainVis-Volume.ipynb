{
 "cells": [
  {
   "cell_type": "code",
   "execution_count": 2,
   "metadata": {
    "collapsed": true
   },
   "outputs": [],
   "source": [
    "import sys"
   ]
  },
  {
   "cell_type": "code",
   "execution_count": 10,
   "metadata": {
    "scrolled": false
   },
   "outputs": [],
   "source": [
    "sys.path.append('/Users/jessie_liu/anaconda/envs/py35/lib/python3.5/site-packages/')"
   ]
  },
  {
   "cell_type": "code",
   "execution_count": 7,
   "metadata": {},
   "outputs": [
    {
     "name": "stdout",
     "output_type": "stream",
     "text": [
      "Requirement already satisfied: nibabel in /Users/jessie_liu/anaconda/envs/py35/lib/python3.5/site-packages (3.0.2)\n",
      "Requirement already satisfied: numpy>=1.12 in /Users/jessie_liu/anaconda/envs/py35/lib/python3.5/site-packages (from nibabel) (1.12.1)\n",
      "\u001b[33mYou are using pip version 18.1, however version 20.0.2 is available.\n",
      "You should consider upgrading via the 'pip install --upgrade pip' command.\u001b[0m\n"
     ]
    }
   ],
   "source": [
    "!pip3 install nibabel"
   ]
  },
  {
   "cell_type": "code",
   "execution_count": 2,
   "metadata": {},
   "outputs": [
    {
     "name": "stdout",
     "output_type": "stream",
     "text": [
      "/Users/jessie_liu/anaconda/envs/py35/bin/python\r\n"
     ]
    }
   ],
   "source": [
    "!which python"
   ]
  },
  {
   "cell_type": "code",
   "execution_count": 3,
   "metadata": {},
   "outputs": [
    {
     "name": "stdout",
     "output_type": "stream",
     "text": [
      "Python 3.5.3 :: Anaconda 4.4.0 (x86_64)\r\n"
     ]
    }
   ],
   "source": [
    "!python --version"
   ]
  },
  {
   "cell_type": "code",
   "execution_count": 11,
   "metadata": {},
   "outputs": [],
   "source": [
    "import os\n",
    "import sys\n",
    "import numpy as np\n",
    "import nibabel as nib\n",
    "import matplotlib.pylab as plt\n",
    "%matplotlib inline\n",
    "import pandas as pd"
   ]
  },
  {
   "cell_type": "code",
   "execution_count": 2,
   "metadata": {
    "collapsed": true
   },
   "outputs": [],
   "source": [
    "CCA_pos = np.loadtxt('CCA1_pos_unmapped.txt')\n",
    "CCA_neg = np.loadtxt('CCA1_neg_unmapped.txt')"
   ]
  },
  {
   "cell_type": "code",
   "execution_count": 12,
   "metadata": {
    "collapsed": true
   },
   "outputs": [],
   "source": [
    "# load group ICA map for 200 nodes\n",
    "img = nib.load('../rawdata/groupICA/melodic_IC_sum.nii.gz')\n",
    "data = img.get_fdata()"
   ]
  },
  {
   "cell_type": "code",
   "execution_count": 14,
   "metadata": {},
   "outputs": [
    {
     "data": {
      "text/plain": [
       "(91, 109, 91, 200)"
      ]
     },
     "execution_count": 14,
     "metadata": {},
     "output_type": "execute_result"
    }
   ],
   "source": [
    "data.shape"
   ]
  },
  {
   "cell_type": "code",
   "execution_count": 33,
   "metadata": {},
   "outputs": [
    {
     "data": {
      "text/plain": [
       "0.60423267483711207"
      ]
     },
     "execution_count": 33,
     "metadata": {},
     "output_type": "execute_result"
    }
   ],
   "source": [
    "np.percentile(data[:,:,:,:],90)"
   ]
  },
  {
   "cell_type": "code",
   "execution_count": 4,
   "metadata": {
    "collapsed": true
   },
   "outputs": [],
   "source": [
    "# Flip the node if the peak value is negative, and nomalise by the peak value\n",
    "data_n = data.copy()\n",
    "for i in range(200):\n",
    "    if np.max(data[:,:,:,i]) < np.abs(np.min(data[:,:,:,i])):\n",
    "        print(i)\n",
    "        data_n[:,:,:,i] = -data_n[:,:,:,i]\n",
    "    data_n[:,:,:,i] = np.divide(data_n[:,:,:,i], np.max(data[:,:,:,i]))"
   ]
  },
  {
   "cell_type": "code",
   "execution_count": 5,
   "metadata": {
    "collapsed": true
   },
   "outputs": [],
   "source": [
    "data_n[data_n<0] = 0 # why?"
   ]
  },
  {
   "cell_type": "code",
   "execution_count": 6,
   "metadata": {
    "collapsed": true
   },
   "outputs": [],
   "source": [
    "# map cca loadings to group ICA map\n",
    "pos_map = data_n.copy()\n",
    "neg_map = data_n.copy()\n",
    "for i in range(200):\n",
    "    pos_map[:,:,:,i] = data_n[:,:,:,i] * CCA_pos[i]\n",
    "    neg_map[:,:,:,i] = data_n[:,:,:,i] * CCA_neg[i]"
   ]
  },
  {
   "cell_type": "code",
   "execution_count": 7,
   "metadata": {
    "collapsed": true
   },
   "outputs": [],
   "source": [
    "# sum 200 nodes to generate one positve and one negative map\n",
    "mean_map = np.mean(data_n,axis=3)\n",
    "\n",
    "Sum_pos_map = np.sum(pos_map,axis=3)\n",
    "Sum_neg_map = np.sum(neg_map,axis=3)"
   ]
  },
  {
   "cell_type": "code",
   "execution_count": 8,
   "metadata": {
    "collapsed": true,
    "scrolled": true
   },
   "outputs": [],
   "source": [
    "pos = Sum_pos_map\n",
    "neg = Sum_neg_map\n",
    "\n",
    "pos[mean_map>0] = np.log(Sum_pos_map[mean_map>0]/mean_map[mean_map>0])\n",
    "neg[mean_map>0] = np.log(Sum_neg_map[mean_map>0]/mean_map[mean_map>0])"
   ]
  },
  {
   "cell_type": "code",
   "execution_count": 9,
   "metadata": {
    "collapsed": true
   },
   "outputs": [],
   "source": [
    "# export\n",
    "img_map = nib.Nifti1Image(pos, img.affine)\n",
    "nib.save(img_map, 'CCA1_pos_20_unmapped.nii')\n",
    "img_map = nib.Nifti1Image(neg, img.affine)\n",
    "nib.save(img_map, 'CCA1_neg_20_unampped.nii')"
   ]
  },
  {
   "cell_type": "code",
   "execution_count": null,
   "metadata": {
    "collapsed": true
   },
   "outputs": [],
   "source": []
  }
 ],
 "metadata": {
  "kernelspec": {
   "display_name": "py36-test",
   "language": "python",
   "name": "py36-test"
  },
  "language_info": {
   "codemirror_mode": {
    "name": "ipython",
    "version": 3
   },
   "file_extension": ".py",
   "mimetype": "text/x-python",
   "name": "python",
   "nbconvert_exporter": "python",
   "pygments_lexer": "ipython3",
   "version": "3.5.2"
  }
 },
 "nbformat": 4,
 "nbformat_minor": 2
}
